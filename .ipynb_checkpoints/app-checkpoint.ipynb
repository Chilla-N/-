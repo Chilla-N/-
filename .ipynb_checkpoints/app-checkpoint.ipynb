{
 "cells": [
  {
   "cell_type": "markdown",
   "id": "55e59615",
   "metadata": {},
   "source": [
    "Hyper-V 자동화 웹서비스 app.py\n",
    "===\n",
    "\n",
    "\n",
    "\n"
   ]
  },
  {
   "cell_type": "markdown",
   "id": "7ccccef2",
   "metadata": {},
   "source": [
    "적용 모듈 설명\n",
    "------------\n",
    "|모듈|설명|\n",
    "|:---|:---|\n",
    "|**flask**|플라스크 REST-API 설계를 위한 모듈|\n",
    "|**pymongo**|python 내에서 mongoDB CRUD제어를 위한 모듈|\n",
    "|bson|mongoDB내에서 사용되는 bson파일을 위한 모듈|\n",
    "|datetime|datetime이다|\n",
    "|dateutil.relativedelta|datetime자료형을 더 직관적으로 다룰 수 있도록 도와주는 모듈|\n",
    "|hashlib|비밀번호용 단방향 hash생성을 위한 모듈|\n",
    "|time.sleep|서버 생성하는 동안 기다리는 모듈|\n",
    "|**bp**|flask 블루프린트|\n",
    "|request|결제 API로 tid를 받아오는데 사용한 모듈|\n",
    "|**apscheduler.schedulers.background**|VM자동 정지를 위해 백그라운드 동작모듈|\n",
    "|logging|flask 디버깅을 위해 로그사용|\n"
   ]
  },
  {
   "cell_type": "code",
   "execution_count": null,
   "id": "e3847d93",
   "metadata": {},
   "outputs": [],
   "source": [
    "from flask import Flask, request, render_template, session, redirect, flash, jsonify, url_for\n",
    "import pymongo\n",
    "from bson import ObjectId\n",
    "from datetime import datetime\n",
    "from dateutil.relativedelta import *\n",
    "import os\n",
    "import hashlib\n",
    "import subprocess,sys\n",
    "from time import sleep\n",
    "from pay import bp\n",
    "import requests\n",
    "from datetime import timedelta\n",
    "from apscheduler.schedulers.background import BackgroundScheduler\n",
    "import logging\n",
    "#logging.basicConfig(filename='test.log', level=logging.ERROR)\n",
    "#logging.error(result) #디버그용 로그\n"
   ]
  },
  {
   "cell_type": "markdown",
   "id": "012b8ec7",
   "metadata": {},
   "source": [
    "### 1. 주기적으로 DB를 확인해 유효기간을 넘기면 VM서버를 정지"
   ]
  },
  {
   "cell_type": "code",
   "execution_count": null,
   "id": "18ebd0a4",
   "metadata": {},
   "outputs": [],
   "source": [
    "def sensor():\n",
    "    print(\"서버 점검 중입니다\")\n",
    "    start_time = datetime.today() \n",
    "    end_time = datetime.today() + relativedelta(days= +1)\n",
    "    find_query = { 'end_time': { '$gte' : start_time, '$lt' : end_time }}\n",
    "    cols = Vm.find(find_query)\n",
    "    if cols is not None:\n",
    "        for col in cols:\n",
    "            if col[\"running\"] == True:#실행중일때\n",
    "                if col[\"auto\"] == True:#자동연장 활성화상태이면\n",
    "                    user_id = col[\"user_id\"]\n",
    "                    result = user.find_one( {'user_id' : user_id})\n",
    "                    point = result[\"point\"]\n",
    "                    prices = admin.find_one({\"lable\":\"price\"})\n",
    "                    price = prices[col[\"service_num\"]]\n",
    "                    if point >= price:#포인트가 남아있으면\n",
    "                        after_point = point - price\n",
    "                        user.update_one({\"user_id\":user_id},{\"$set\":{\"point\":after_point}})#포인트 차감\n",
    "                        after_end_time=col[\"endtime\"] + relativedelta(months= +1)\n",
    "                        Vm.update_one({\"user_id\":user_id},{\"$set\":{\"end_time\":after_end_time}})#기간 연장\n",
    "                    else: #VM종료\n",
    "                        host_id = col[\"host_id\"]\n",
    "                        Vm.update_one({\"host_id\":host_id},{\"$set\":{\"trans\":True}})\n",
    "                        subprocess.call([\".\\stop.bat\"])#종료 스크립트\n",
    "                        sleep(3)\n",
    "                        Vm.update_one({\"host_id\":host_id},{\"$set\":{\"trans\":False}})\n",
    "                        Vm.update_one({\"host_id\":host_id},{\"$set\":{\"running\":False}})\n",
    "                        print(\"VM:\"+host_id+\"가 기간 만료로 종료되었습니다.\")\n",
    "                else:#VM종료\n",
    "                    host_id = col[\"host_id\"]\n",
    "                    Vm.update_one({\"host_id\":host_id},{\"$set\":{\"trans\":True}})\n",
    "                    subprocess.call([\".\\stop.bat\"])#종료 스크립트\n",
    "                    sleep(3)\n",
    "                    Vm.update_one({\"host_id\":host_id},{\"$set\":{\"trans\":False}})\n",
    "                    Vm.update_one({\"host_id\":host_id},{\"$set\":{\"running\":False}})\n",
    "                    print(\"VM:\"+host_id+\"가 기간 만료로 종료되었습니다.\")\n",
    "    print(\"점검이 종료되었습니다.\")"
   ]
  },
  {
   "cell_type": "markdown",
   "id": "d35f7e77",
   "metadata": {},
   "source": [
    "### 2. flask 세팅"
   ]
  },
  {
   "cell_type": "code",
   "execution_count": null,
   "id": "66b37cb2",
   "metadata": {},
   "outputs": [],
   "source": [
    "app = Flask(__name__)\n",
    "app.register_blueprint(bp) #블루프린트 연결\n",
    "app.config[\"PERMANENT_SESSION_LIFETIME\"] = timedelta(minutes=15) #세션 제한시간 부여\n",
    "\n",
    "SECRET_KEY = os.urandom(32) #무작위 시크릿키 생성\n",
    "app.config['SECRET_KEY'] = SECRET_KEY #무작위 시크릿키 부여"
   ]
  },
  {
   "cell_type": "markdown",
   "id": "e7547d81",
   "metadata": {},
   "source": [
    "### 3. MongoDB연결\n",
    "##### 디렉토리 구조:\n",
    ">root\n",
    ">    >admins\n",
    ">    >    >admin (가격, 할인등 보안이 필요한 데이터)\n",
    "\n",
    ">    >test\n",
    ">    >    >Vm(유저가 생성한 서버의 데이터)\n",
    "\n",
    ">    >    >user(클라이언트 가입 데이터)"
   ]
  },
  {
   "cell_type": "code",
   "execution_count": null,
   "id": "bd146183",
   "metadata": {},
   "outputs": [],
   "source": [
    "client = pymongo.MongoClient(\"localhost\",27017)#mongoDB연결\n",
    "db = client.get_database(\"test\")#db연결\n",
    "admins = client.get_database(\"admin\")#db연결\n",
    "admin = admins.get_collection(\"admin\")#collection연결\n",
    "user = db.get_collection(\"user\")#collection연결\n",
    "Vm = db.get_collection(\"Vm\")#collection연결"
   ]
  },
  {
   "cell_type": "markdown",
   "id": "e298c80c",
   "metadata": {},
   "source": [
    "### 4. DB의 메뉴정보를 숫자로 변환하는 함수"
   ]
  },
  {
   "cell_type": "code",
   "execution_count": null,
   "id": "55962a88",
   "metadata": {},
   "outputs": [],
   "source": [
    "def number_changer(num):\n",
    "    if num == \"1\":\n",
    "        return \"one\"\n",
    "    elif num == \"2\":\n",
    "        return \"two\"\n",
    "    elif num == \"3\":\n",
    "        return \"three\"\n",
    "    elif num == \"4\":\n",
    "        return \"four\"\n",
    "    elif num == \"5\":\n",
    "        return \"five\"\n",
    "    elif num == \"6\":\n",
    "        return \"six\"\n",
    "    elif num == \"7\":\n",
    "        return \"seven\"\n",
    "    elif num == \"8\":\n",
    "        return \"eight\"\n",
    "    elif num == 9:\n",
    "        return \"nine\"\n"
   ]
  },
  {
   "cell_type": "markdown",
   "id": "34937857",
   "metadata": {},
   "source": [
    "### 5. 웹의 form data를 boolean으로 변환하는 함수"
   ]
  },
  {
   "cell_type": "code",
   "execution_count": null,
   "id": "cb12364e",
   "metadata": {},
   "outputs": [],
   "source": [
    "def boolean_changer(bool):\n",
    "    if bool == \"동의\":\n",
    "        return True\n",
    "    elif bool == \"거부\":\n",
    "        return False\n",
    "    else:\n",
    "        flash(\"자동연장여부를 선택해주세요.\")\n",
    "        return redirect(url_for(\"creat\"))"
   ]
  },
  {
   "cell_type": "markdown",
   "id": "4c7cfad5",
   "metadata": {},
   "source": [
    "### 6. 메인페이지"
   ]
  },
  {
   "cell_type": "code",
   "execution_count": null,
   "id": "7d1e18ca",
   "metadata": {},
   "outputs": [],
   "source": [
    "@app.route('/')\n",
    "def main():\n",
    "    user_id = session.get('login',None)\n",
    "    if user_id == None:\n",
    "        return redirect(url_for(\"login\"))#로그인 확인\n",
    "    elif  user_id == \"admin\":\n",
    "        return redirect(url_for(\"Admin\"))#어드민 접속이면 가격관리페이지로 넘김\n",
    "    else:\n",
    "        user_info = user.find_one({\"user_id\":user_id})\n",
    "        Vm_info = Vm.find_one({\"user_id\":user_id})\n",
    "        service_num = Vm_info[\"service_num\"]\n",
    "        ad_col = admin.find_one({\"lable\":\"price\"})\n",
    "        sche_point = ad_col[service_num]\n",
    "        #인덱스페이지에 필요한 데이터를 가져와 템플릿과 함께 넘겨준다\n",
    "        return render_template(\"index.html\",user_info = user_info, Vm_info = Vm_info, sche_point = sche_point)"
   ]
  },
  {
   "cell_type": "markdown",
   "id": "908d653d",
   "metadata": {},
   "source": [
    "### 7. 가입페이지"
   ]
  },
  {
   "cell_type": "code",
   "execution_count": null,
   "id": "d1b58db1",
   "metadata": {},
   "outputs": [],
   "source": [
    "@app.route('/register/', methods=['GET','POST'])\n",
    "def register():\n",
    "    if request.method == 'GET':\n",
    "        return render_template('register.html') #metode가 GET이면 가입템플릿으로 넘김\n",
    "    else:\n",
    "        user_id = request.form.get('user_id')\n",
    "        user_pw = request.form.get('user_pw')\n",
    "        user_pw2 = request.form.get('user_pw2')\n",
    "        email = request.form.get('email')\n",
    "        if user_pw != user_pw2: #확인 비밀번호 일치하는지 확인\n",
    "            flash(\"비밀번호가 일치하지 않습니다\")\n",
    "            return redirect(url_for(\"register\"))\n",
    "        else:\n",
    "            pw_hash = hashlib.sha256(user_pw.encode('utf-8')).hexdigest()#비밀번호 hash로 저장\n",
    "            user.insert_one({'user_id':user_id, 'user_pw': pw_hash, 'email': email, \"point\": 0})#회원 초기 데이터 저장\n",
    "            flash(\"정상적으로 가입되었습니다.\")\n",
    "            return redirect(url_for(\"login\"))#완료후 로그인페이지로 넘김"
   ]
  },
  {
   "cell_type": "markdown",
   "id": "23db2fdf",
   "metadata": {},
   "source": [
    "### 8. 로그인페이지"
   ]
  },
  {
   "cell_type": "code",
   "execution_count": null,
   "id": "a6fbf5cf",
   "metadata": {},
   "outputs": [],
   "source": [
    "@app.route('/login', methods=['GET','POST'])\n",
    "def login():\n",
    "    if request.method == 'POST':#메소드 확인\n",
    "        user_id = request.form['user_id']\n",
    "        user_pw = request.form['user_pw']\n",
    "        result = user.find_one({'user_id' : user_id})#user_id와 일치하는 데이터 검색\n",
    "        pw_hash = hashlib.sha256(user_pw.encode('utf-8')).hexdigest()#받은 패스워드 해쉬\n",
    "        if result == None: #일치하는 user_id가 없으면\n",
    "            flash(\"올바른 아이디가 아닙니다..\")\n",
    "            return redirect(url_for(\"login\"))\n",
    "        elif result[\"user_pw\"] != pw_hash:#일치하는 패스워드가 아니면\n",
    "            flash(\"올바른 패스워드가 아닙니다.\")\n",
    "            return redirect(url_for(\"login\"))\n",
    "        else:#일치하면\n",
    "            session['login'] = user_id #세션 부여\n",
    "            return redirect(url_for(\"main\", msg=user_id+\"님 로그인 되었습니다\"))\n",
    "    else:\n",
    "        return render_template(\"login.html\")"
   ]
  },
  {
   "cell_type": "markdown",
   "id": "207b80af",
   "metadata": {},
   "source": [
    "### 9. 로그아웃페이지"
   ]
  },
  {
   "cell_type": "code",
   "execution_count": null,
   "id": "bd1fc114",
   "metadata": {},
   "outputs": [],
   "source": [
    "@app.route('/logout', methods=['GET'])\n",
    "def logout():\n",
    "    session.pop('login', None)#로그인 세션 삭제\n",
    "    return redirect(url_for(\"main\"))"
   ]
  },
  {
   "cell_type": "markdown",
   "id": "6c29b5e3",
   "metadata": {},
   "source": [
    "### 10. VM 생성 페이지"
   ]
  },
  {
   "cell_type": "code",
   "execution_count": null,
   "id": "ee27f408",
   "metadata": {},
   "outputs": [],
   "source": [
    "@app.route('/create', methods=['GET','POST'])  \n",
    "def create():\n",
    "    user_id = session.get('login',None)#로그인 확인\n",
    "    if user_id == None:\n",
    "        return redirect(url_for(\"login\"))\n",
    "    if request.method == 'GET':# 메소드 GET일때 가격정보와 함께 템플릿 제공\n",
    "        return render_template('create.html',user_info = user.find_one({\"user_id\":user_id}), price = admin.find_one({\"lable\":\"price\"}))\n",
    "    else:\n",
    "        result = user.find_one( {'user_id' : user_id})\n",
    "        service_num = request.form['service_num']\n",
    "        nums = number_changer(service_num)\n",
    "        price = admin.find_one({\"lable\":\"price\"})\n",
    "        auto = request.form['auto']\n",
    "        autos = boolean_changer(auto)\n",
    "        host_id = request.form['host_id']\n",
    "        host_pw = request.form['host_pw']\n",
    "        host_pw2 = request.form['host_pw2']\n",
    "        end_time = datetime.today() + relativedelta(months= +1)\n",
    "        start_time = datetime.today()\n",
    "        pw_hash = hashlib.sha256(host_pw.encode('utf-8')).hexdigest()\n",
    "        if host_pw != host_pw2:\n",
    "            flash(\"호스트 비밀번호가 다릅니다.\")\n",
    "            return render_template('create.html',user_info = user.find_one({\"user_id\":user_id}), price = admin.find_one({\"lable\":\"price\"}))\n",
    "        if result[\"point\"] >= price[nums] :#포인트가 충분할때\n",
    "            Vm.insert_one({\n",
    "                'user_id':user_id,#생성한 유저\n",
    "                'host_pw': pw_hash,#VM 패스워드\n",
    "                'host_id': host_id,#VM 아이디\n",
    "                'auto' : autos,#자동연장 여부\n",
    "                'service_num' : nums, #서비스 옵션\n",
    "                'start_time' : start_time,#시작시간(부동)\n",
    "                'end_time': end_time,#만료시간(변동)\n",
    "                'trans':True,#생성 스크립트에서 만들어야할 Vm을 식별하기 위해 있는 데이터\n",
    "                'running':True})#실행중인지 확인하는 데이터\n",
    "            subprocess.call([\".\\create.bat\"])#서버 생성 스크립트 실행\n",
    "            sleep(3)\n",
    "            after_point = result[\"point\"] - price[nums]\n",
    "            user.update_one({\"user_id\":user_id},{\"$set\":{\"point\":after_point}})\n",
    "            Vm.update_one({\"trans\":True},{\"$set\":{\"trans\":False}})#생성완료후 식별데이터 비활성화\n",
    "            flash(\"서버가 성공적으로 생성되었습니다.\")\n",
    "            return redirect(url_for(\"main\"))\n",
    "        else:\n",
    "            flash(\"포인트가 부족합니다.\")\n",
    "            return redirect(url_for('create'))\n"
   ]
  },
  {
   "cell_type": "markdown",
   "id": "3332e97e",
   "metadata": {},
   "source": [
    "### 11.admin 페이지"
   ]
  },
  {
   "cell_type": "code",
   "execution_count": null,
   "id": "bbe61454",
   "metadata": {},
   "outputs": [],
   "source": [
    "@app.route('/admin', methods=['GET','POST'])#가격설정이 가능한 페이지\n",
    "def Admin():\n",
    "    user_id = session.get('login',None)\n",
    "    if user_id != 'admin':\n",
    "        return redirect(url_for(\"login\"))\n",
    "    if request.method == 'GET':\n",
    "        #logging.error(admin.find_one({\"lable\":\"price\"}))\n",
    "        return render_template(\"admin.html\",user_info = user.find_one({\"user_id\":user_id}), price = admin.find_one({\"lable\":\"price\"}))\n",
    "    else:\n",
    "        service_num = request.form['service_num']\n",
    "        nums = number_changer(service_num)\n",
    "        prices = int(request.form['price'])\n",
    "        admin.update_one({\"lable\":\"price\"},{\"$set\":{nums:prices}})\n",
    "        return redirect(url_for(\"Admin\"))"
   ]
  },
  {
   "cell_type": "code",
   "execution_count": null,
   "id": "48514216",
   "metadata": {},
   "outputs": [],
   "source": [
    "if __name__ == \"__main__\":\n",
    "\n",
    "    app.run(host=\"127.0.0.1\", port=5000, debug=True)"
   ]
  }
 ],
 "metadata": {
  "kernelspec": {
   "display_name": "Python 3",
   "language": "python",
   "name": "python3"
  },
  "language_info": {
   "codemirror_mode": {
    "name": "ipython",
    "version": 3
   },
   "file_extension": ".py",
   "mimetype": "text/x-python",
   "name": "python",
   "nbconvert_exporter": "python",
   "pygments_lexer": "ipython3",
   "version": "3.8.8"
  }
 },
 "nbformat": 4,
 "nbformat_minor": 5
}
