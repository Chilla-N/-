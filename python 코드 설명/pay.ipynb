{
 "cells": [
  {
   "cell_type": "markdown",
   "id": "55e59615",
   "metadata": {},
   "source": [
    "Hyper-V 자동화 웹서비스 pay.py\n",
    "===\n",
    "\n",
    "\n",
    "\n"
   ]
  },
  {
   "cell_type": "markdown",
   "id": "7ccccef2",
   "metadata": {},
   "source": [
    "적용 모듈 설명\n",
    "------------\n",
    "|모듈|설명|\n",
    "|:---|:---|\n",
    "|**flask**|플라스크 REST-API 설계를 위한 모듈|\n",
    "|**pymongo**|python 내에서 mongoDB CRUD제어를 위한 모듈|\n",
    "|request|결제 API로 tid를 받아오는데 사용한 모듈|\n",
    "|json|json파일을 다루기 위한 모듈|\n"
   ]
  },
  {
   "cell_type": "code",
   "execution_count": null,
   "id": "e3847d93",
   "metadata": {},
   "outputs": [],
   "source": [
    "from flask import Blueprint, redirect, session, render_template, request, jsonify, escape,url_for, make_response\n",
    "import requests\n",
    "import json\n",
    "import pymongo\n",
    "bp = Blueprint('bp', __name__)#블루프린트 연결"
   ]
  },
  {
   "cell_type": "markdown",
   "id": "012b8ec7",
   "metadata": {},
   "source": [
    "### 1. MongoDB연동"
   ]
  },
  {
   "cell_type": "code",
   "execution_count": null,
   "id": "18ebd0a4",
   "metadata": {},
   "outputs": [],
   "source": [
    "client = pymongo.MongoClient(\"localhost\",27017)\n",
    "db = client.get_database(\"test\")\n",
    "admins = client.get_database(\"admin\")\n",
    "admin = admins.get_collection(\"admin\")\n",
    "user = db.get_collection(\"user\")\n",
    "Vm = db.get_collection(\"Vm\")"
   ]
  },
  {
   "cell_type": "markdown",
   "id": "d35f7e77",
   "metadata": {},
   "source": [
    "### 2. point결제 페이지"
   ]
  },
  {
   "cell_type": "code",
   "execution_count": null,
   "id": "66b37cb2",
   "metadata": {},
   "outputs": [],
   "source": [
    "@bp.route('/point', methods=['GET','POST'])  \n",
    "def point():\n",
    "    user_id = session.get('login',None)#로그인 확인\n",
    "    if user_id == None:\n",
    "        return redirect(url_for(\"login\"))\n",
    "    if request.method == 'GET':\n",
    "        return render_template('point.html',user_info = user.find_one({\"user_id\":user_id}), price = admin.find_one({\"lable\":\"price\"}))\n",
    "    else:#admin이 설정한 할인율에 따라 결제 진행\n",
    "        dc_col = admin.find_one({\"lable\":\"DC\"})\n",
    "        DC_num = request.form.get('DC_num')\n",
    "        bprice = float(request.form.get('pay_price'))\n",
    "        dc = float(dc_col[DC_num])\n",
    "        aprice = int(bprice*(1-0.01*dc))#할인 적용된 가격\n",
    "        #이하 결제 준비단계(tid 받아오기)\n",
    "        URL = 'https://kapi.kakao.com/v1/payment/ready'\n",
    "        headers = {\n",
    "            'Authorization': \"KakaoAK \" + \"47505261b90a9bd874b965a27a6abc3e\",\n",
    "            \"Content-type\": \"application/x-www-form-urlencoded;charset=utf-8\",\n",
    "        }\n",
    "        params = {\n",
    "            \"cid\": \"TC0ONETIME\", #가맹점 코드\n",
    "            \"partner_order_id\": \"1001\",  #가맹점 주문코드\n",
    "            \"partner_user_id\": user_id,  #가맹점 회원\n",
    "            \"item_name\": \"포인트)옵션:\"+DC_num,  #상품명\n",
    "            \"quantity\": 1, #상품 수량\n",
    "            \"total_amount\": aprice, #상품총액 \n",
    "            \"tax_free_amount\": 0,  #비과세 금액(그냥 0)\n",
    "            \"approval_url\": \"http://localhost:5000/kakaopay/success\",#성공페이지\n",
    "            \"cancel_url\": \"http://localhost:5000/kakaopay/cancel\",#취소페이지\n",
    "            \"fail_url\": \"http://localhost:5000/kakaopay/fail\",#실패페이지\n",
    "        }\n",
    "        res = requests.post(URL, headers=headers, params=params)#서버 통신\n",
    "        print(res)\n",
    "        #request요청을 하면 세션이 초기화 되기 때문에 다시 세션에 저장해야함\n",
    "        session[\"tid\"] = res.json()['tid']#세션에 tid저장\n",
    "        session['user_id'] = user_id#세션에 user_id저장\n",
    "        return redirect(res.json()['next_redirect_pc_url'])"
   ]
  },
  {
   "cell_type": "markdown",
   "id": "e7547d81",
   "metadata": {},
   "source": [
    "### 3. 결제 성공페이지\n"
   ]
  },
  {
   "cell_type": "code",
   "execution_count": null,
   "id": "bd146183",
   "metadata": {},
   "outputs": [],
   "source": [
    "@bp.route(\"/kakaopay/success\", methods=['POST', 'GET'])\n",
    "def sucess():\n",
    "    #위와 같은 이유로 세션에 담아둔 tid,user_id를 변수에 저장\n",
    "    tid = session.get(\"tid\")\n",
    "    user_id = session.get(\"user_id\")\n",
    "    \n",
    "    URL = 'https://kapi.kakao.com/v1/payment/approve'\n",
    "    headers = {\n",
    "        \"Authorization\": \"KakaoAK \" + \"47505261b90a9bd874b965a27a6abc3e\",\n",
    "        \"Content-type\": \"application/x-www-form-urlencoded;charset=utf-8\",\n",
    "    }\n",
    "    params = {\n",
    "        \"cid\": \"TC0ONETIME\",  # 테스트용 코드\n",
    "        \"tid\": tid,  # 결제 요청시 세션에 저장한 tid\n",
    "        \"partner_order_id\": \"1001\",  # 주문번호\n",
    "        \"partner_user_id\": user_id,  # 유저 아이디\n",
    "        \"pg_token\": request.args.get(\"pg_token\"),  # 쿼리 스트링으로 받은 pg토큰\n",
    "    }\n",
    "    res = requests.post(URL, headers=headers, params=params)\n",
    "    print(res.text)\n",
    "    print(res.json())\n",
    "    print(res.json()['amount'])\n",
    "    print(res.json()['amount']['total'])\n",
    "    amount = res.json()['amount']['total']\n",
    "    res = res.json()\n",
    "    context = {\n",
    "        'res': res,\n",
    "        'amount': amount,\n",
    "    }\n",
    "    item = res['item_name'][7:]\n",
    "    added_point= admin.find_one({\"lable\":\"default_cash\"})[item]\n",
    "    session['user_id'] = user_id\n",
    "    point = user.find_one({\"user_id\":user_id})[\"point\"]\n",
    "    point = point + added_point\n",
    "    user.update_one({\"user_id\":user_id},{\"$set\":{\"point\":point}})\n",
    "    return render_template('success.html', context=context, res=res)"
   ]
  },
  {
   "cell_type": "markdown",
   "id": "e298c80c",
   "metadata": {},
   "source": [
    "### 4. 취소페이지"
   ]
  },
  {
   "cell_type": "code",
   "execution_count": null,
   "id": "55962a88",
   "metadata": {},
   "outputs": [],
   "source": [
    "@bp.route(\"/kakaopay/cancel\", methods=['POST', 'GET'])\n",
    "def cancel():\n",
    "    URL = \"https://kapi.kakao.com/v1/payment/order\"\n",
    "    headers = {\n",
    "        \"Authorization\": \"KakaoAK \" + \"47505261b90a9bd874b965a27a6abc3e\",\n",
    "        \"Content-type\": \"application/x-www-form-urlencoded;charset=utf-8\",\n",
    "    }\n",
    "    params = {\n",
    "        \"cid\": \"TC0ONETIME\",  # 가맹점 코드\n",
    "        \"tid\": session.get('tid'),  # 결제 고유 코드\n",
    "    }\n",
    "    res = requests.post(URL, headers=headers, params=params)\n",
    "    print(res.text)\n",
    "    amount = res.json()['cancel_available_amount']['total']\n",
    "    context = {\n",
    "        'res': res,\n",
    "        'cancel_available_amount': amount,\n",
    "    }\n",
    "    \n",
    "    if res.json()['status'] == \"QUIT_PAYMENT\":\n",
    "        res = res.json()\n",
    "        return render_template('cancel.html', params=params, res=res, context=context)\n"
   ]
  },
  {
   "cell_type": "markdown",
   "id": "8170719a",
   "metadata": {},
   "source": [
    "### 5. 결제 실패페이지"
   ]
  },
  {
   "cell_type": "code",
   "execution_count": null,
   "id": "668f5c96",
   "metadata": {},
   "outputs": [],
   "source": [
    "@bp.route(\"/kakaopay/fail\", methods=['POST', 'GET'])\n",
    "def fail():\n",
    "\n",
    "    return render_template('fail.html')"
   ]
  }
 ],
 "metadata": {
  "kernelspec": {
   "display_name": "Python 3",
   "language": "python",
   "name": "python3"
  },
  "language_info": {
   "codemirror_mode": {
    "name": "ipython",
    "version": 3
   },
   "file_extension": ".py",
   "mimetype": "text/x-python",
   "name": "python",
   "nbconvert_exporter": "python",
   "pygments_lexer": "ipython3",
   "version": "3.8.8"
  }
 },
 "nbformat": 4,
 "nbformat_minor": 5
}
